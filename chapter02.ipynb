{
 "cells": [
  {
   "cell_type": "code",
   "execution_count": 5,
   "id": "30280895-8d0b-49a8-9c66-709b7387d305",
   "metadata": {},
   "outputs": [],
   "source": [
    "import codecs\n",
    "import os\n",
    "\n",
    "def read_in(folder):\n",
    "    files = os.listdir(folder)\n",
    "    a_list = []\n",
    "    for a_file in files:\n",
    "        if not a_file.startswith(\".\"):\n",
    "            f = codecs.open(os.path.join(folder, a_file), \"r\", encoding = \"ISO-8859-1\", errors=\"ignore\")\n",
    "            a_list.append(f.read())\n",
    "            f.close()\n",
    "\n",
    "    return a_list"
   ]
  },
  {
   "cell_type": "code",
   "execution_count": 8,
   "id": "e6d874e7-7286-4ceb-a6c6-c472f9fb072e",
   "metadata": {},
   "outputs": [],
   "source": [
    "spam_list = read_in(\"enron1/spam\")\n",
    "ham_list = read_in(\"enron1/ham\")"
   ]
  },
  {
   "cell_type": "code",
   "execution_count": 11,
   "id": "d29219ba-8009-4695-bee9-1ec148584921",
   "metadata": {},
   "outputs": [
    {
     "name": "stdout",
     "output_type": "stream",
     "text": [
      "Dataset size = 5172 emails\n"
     ]
    }
   ],
   "source": [
    "import random\n",
    "\n",
    "all_emails = [(email_content, \"spam\") for email_content in spam_list]\n",
    "all_emails += [(email_content, \"ham\") for email_content in ham_list]\n",
    "random.seed(42)\n",
    "random.shuffle(all_emails)\n",
    "print(f\"Dataset size = {len(all_emails)} emails\")"
   ]
  },
  {
   "cell_type": "code",
   "execution_count": null,
   "id": "fa9c634b-fa51-48ba-b48e-f92496749740",
   "metadata": {},
   "outputs": [],
   "source": []
  }
 ],
 "metadata": {
  "kernelspec": {
   "display_name": "Python 3 (ipykernel)",
   "language": "python",
   "name": "python3"
  },
  "language_info": {
   "codemirror_mode": {
    "name": "ipython",
    "version": 3
   },
   "file_extension": ".py",
   "mimetype": "text/x-python",
   "name": "python",
   "nbconvert_exporter": "python",
   "pygments_lexer": "ipython3",
   "version": "3.13.2"
  }
 },
 "nbformat": 4,
 "nbformat_minor": 5
}
