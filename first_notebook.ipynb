{
 "cells": [
  {
   "cell_type": "code",
   "execution_count": 1,
   "id": "55ddf2e9-aec5-44f7-9e6f-931e7a67929c",
   "metadata": {},
   "outputs": [
    {
     "data": {
      "text/plain": [
       "12"
      ]
     },
     "execution_count": 1,
     "metadata": {},
     "output_type": "execute_result"
    }
   ],
   "source": [
    "a = 2\n",
    "b = 10\n",
    "a + b\n"
   ]
  },
  {
   "cell_type": "markdown",
   "id": "263bf5d6",
   "metadata": {},
   "source": [
    "Dies *zeigt,* was _alles_ möglich ist!"
   ]
  },
  {
   "cell_type": "code",
   "execution_count": 2,
   "id": "baf03ce3-cf83-4a56-a5c8-198cd558d4e7",
   "metadata": {},
   "outputs": [
    {
     "data": {
      "text/plain": [
       "24"
      ]
     },
     "execution_count": 2,
     "metadata": {},
     "output_type": "execute_result"
    }
   ],
   "source": [
    "(a + b) * 2"
   ]
  },
  {
   "cell_type": "code",
   "execution_count": 3,
   "id": "6fafc526-3d4f-486e-b03b-61f1fccecd99",
   "metadata": {},
   "outputs": [
    {
     "name": "stdout",
     "output_type": "stream",
     "text": [
      "2\n"
     ]
    }
   ],
   "source": [
    "print(a)"
   ]
  },
  {
   "cell_type": "code",
   "execution_count": null,
   "id": "b327f726-da68-434d-9934-bfd80be67303",
   "metadata": {},
   "outputs": [],
   "source": []
  },
  {
   "cell_type": "code",
   "execution_count": null,
   "id": "2cd6c8bf-fc64-4887-a107-da754b5ab213",
   "metadata": {},
   "outputs": [],
   "source": []
  }
 ],
 "metadata": {
  "kernelspec": {
   "display_name": "Python 3 (ipykernel)",
   "language": "python",
   "name": "python3"
  },
  "language_info": {
   "codemirror_mode": {
    "name": "ipython",
    "version": 3
   },
   "file_extension": ".py",
   "mimetype": "text/x-python",
   "name": "python",
   "nbconvert_exporter": "python",
   "pygments_lexer": "ipython3",
   "version": "3.13.2"
  }
 },
 "nbformat": 4,
 "nbformat_minor": 5
}
